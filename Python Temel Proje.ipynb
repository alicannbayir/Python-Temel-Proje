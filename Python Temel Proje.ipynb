{
 "cells": [
  {
   "cell_type": "code",
   "execution_count": 1,
   "id": "a3f700ec",
   "metadata": {},
   "outputs": [
    {
     "name": "stdout",
     "output_type": "stream",
     "text": [
      "[1, 'a', 'cat', 2, 3, 'dog', 4, 5]\n"
     ]
    }
   ],
   "source": [
    "#1- Bir listeyi düzleştiren (flatten) fonksiyon yazın. Elemanları birden çok katmanlı listelerden ([[3],2] gibi) oluşabileceği gibi, non-scalar verilerden de oluşabilir. Örnek olarak:\n",
    "\n",
    "#input: [[1,'a',['cat'],2],[[[3]],'dog'],4,5]\n",
    "\n",
    "#output: [1,'a','cat',2,3,'dog',4,5]\n",
    "\n",
    "#----\n",
    "list1 = [[1,'a',['cat'],2],[[[3]],'dog'],4,5]\n",
    "flatten_list = []\n",
    "def flatten(l):\n",
    "    for sublist in l:\n",
    "        if type(sublist) == list:\n",
    "            flatten(sublist)\n",
    "        else:\n",
    "            flatten_list.append(sublist)\n",
    "    return flatten_list\n",
    "\n",
    "print(flatten(list1))"
   ]
  },
  {
   "cell_type": "code",
   "execution_count": 6,
   "id": "70367c14",
   "metadata": {},
   "outputs": [
    {
     "name": "stdout",
     "output_type": "stream",
     "text": [
      "[[7, 6, 5], [4, 3], [2, 1]]\n"
     ]
    }
   ],
   "source": [
    "#2-Verilen listenin içindeki elemanları tersine döndüren bir fonksiyon yazın. Eğer listenin içindeki elemanlar da liste içeriyorsa\n",
    "#onların elemanlarını da tersine döndürün. Örnek olarak:\n",
    "\n",
    "#input: [[1, 2], [3, 4], [5, 6, 7]]\n",
    "\n",
    "#output: [[[7, 6, 5], [4, 3], [2, 1]]\n",
    "\n",
    "#----\n",
    "list2 = [[1, 2], [3, 4], [5, 6, 7]]  \n",
    "\n",
    "def reverse_list(l):\n",
    "    l.reverse()\n",
    "    for sublist in l:\n",
    "        if type(sublist) == list:\n",
    "            reverse_list(sublist)\n",
    "\n",
    "reverse_list(list2)\n",
    "print(list2)\n"
   ]
  },
  {
   "cell_type": "code",
   "execution_count": null,
   "id": "e1b8af4a",
   "metadata": {},
   "outputs": [],
   "source": []
  }
 ],
 "metadata": {
  "kernelspec": {
   "display_name": "Python 3 (ipykernel)",
   "language": "python",
   "name": "python3"
  },
  "language_info": {
   "codemirror_mode": {
    "name": "ipython",
    "version": 3
   },
   "file_extension": ".py",
   "mimetype": "text/x-python",
   "name": "python",
   "nbconvert_exporter": "python",
   "pygments_lexer": "ipython3",
   "version": "3.11.1"
  }
 },
 "nbformat": 4,
 "nbformat_minor": 5
}
